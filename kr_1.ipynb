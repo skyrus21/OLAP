{
  "metadata": {
    "kernelspec": {
      "name": "python",
      "display_name": "Pyolite",
      "language": "python"
    },
    "language_info": {
      "codemirror_mode": {
        "name": "python",
        "version": 3
      },
      "file_extension": ".py",
      "mimetype": "text/x-python",
      "name": "python",
      "nbconvert_exporter": "python",
      "pygments_lexer": "ipython3",
      "version": "3.8"
    }
  },
  "nbformat_minor": 5,
  "nbformat": 4,
  "cells": [
    {
      "cell_type": "code",
      "source": "import os\n\nimport random\n\nimport uuid\n\nimport pymysql\nimport redis\nimport rediscluster\n\nimport socket\n\nfrom transliterate import translit",
      "metadata": {},
      "execution_count": 433,
      "outputs": [],
      "id": "a2433bac-b0ec-440b-ae20-4e5372c8ff6b"
    },
    {
      "cell_type": "code",
      "source": "from IPython.display import display\nfrom ipyfilechooser import FileChooser",
      "metadata": {},
      "execution_count": 434,
      "outputs": [],
      "id": "ba31b4da-ec96-4040-837e-90e4290a63f4"
    },
    {
      "cell_type": "markdown",
      "source": "## Задание 1",
      "metadata": {},
      "id": "46d1147c-7437-4914-8e34-5f81785b4633"
    },
    {
      "cell_type": "code",
      "source": "con = pymysql.connect(host='localhost',user='rayxxx',password='password')\nprint(con)\ncon.query('use nanoedu2015;')",
      "metadata": {},
      "execution_count": 182,
      "outputs": [
        {
          "name": "stdout",
          "output_type": "stream",
          "text": "<pymysql.connections.Connection object at 0x7f808feddc10>\n"
        },
        {
          "execution_count": 182,
          "output_type": "execute_result",
          "data": {
            "text/plain": [
              "0"
            ]
          },
          "metadata": {}
        }
      ],
      "id": "1aa55b1c-25a3-4232-b7e0-b8654fdfc03f"
    },
    {
      "cell_type": "code",
      "source": "dbName ='nanoedu2015'\nviewName = 'sp_vuz_reg_city'\n\ncrs = con.cursor()\ncrs.execute(f'describe {dbName}.{viewName}')\nviewDescribe = crs.fetchall()\nfor d in viewDescribe:\n    print(d)",
      "metadata": {},
      "execution_count": 183,
      "outputs": [
        {
          "name": "stdout",
          "output_type": "stream",
          "text": "('id', 'int', 'NO', '', '0', '')\n\n('short_name', 'varchar(500)', 'NO', '', None, '')\n\n('sp_city_id', 'int', 'NO', '', None, '')\n\n('checked', 'int', 'NO', '', '0', '')\n\n('region_id', 'int', 'NO', '', '0', '')\n\n('region_name', 'varchar(200)', 'YES', '', None, '')\n\n('city_id', 'int', 'NO', '', '0', '')\n\n('city_name', 'varchar(100)', 'YES', '', None, '')\n"
        }
      ],
      "id": "670268dc-d240-44f5-9e2a-c9dd13c82768"
    },
    {
      "cell_type": "code",
      "source": "\ncrs.execute(f'select region_name, count(id) from {dbName}.{viewName} group by region_name')\ndata = crs.fetchall()\n\nreg_vuz_count ={}\nfor row in data:\n    reg_vuz_count[row[0]]=row[1]\n  ",
      "metadata": {},
      "execution_count": 423,
      "outputs": [],
      "id": "c255b472-5269-48f5-9154-2c4a6b6899e3"
    },
    {
      "cell_type": "code",
      "source": "\nfor (k,v) in zip(reg_vuz_count.keys(),reg_vuz_count.values()):\n    print(f'{k:<30} : {v:>5}')\n    ",
      "metadata": {},
      "execution_count": 432,
      "outputs": [
        {
          "name": "stdout",
          "output_type": "stream",
          "text": "Адыгея                         :     2\n\nАлтай                          :     1\n\nАлтайский край                 :     4\n\nАмурская область               :     2\n\nАрхангельская область          :     1\n\nАстраханская область           :     1\n\nБашкортостан                   :     4\n\nБелгородская область           :     1\n\nБрянская область               :     3\n\nБурятия                        :     2\n\nВладимирская область           :     1\n\nВолгоградская область          :     4\n\nВологодская область            :     3\n\nВоронежская область            :     7\n\nДагестан                       :     3\n\nЕврейская АО                   :     1\n\nЗабайкальский край             :     1\n\nИвановская область             :     5\n\nИнгушетия                      :     1\n\nИркутская область              :     7\n\nКабардино-Балкария             :     1\n\nКалмыкия                       :     1\n\nКалужская область              :     1\n\nКамчатский край                :     1\n\nКарачаево-Черкесия             :     2\n\nКарелия                        :     2\n\nКемеровская область            :     5\n\nКировская область              :     1\n\nКоми                           :     2\n\nКостромская область            :     2\n\nКраснодарский край             :     4\n\nКрасноярский край              :     5\n\nКурганская область             :     2\n\nКурская область                :     2\n\nЛипецкая область               :     3\n\nМагаданская область            :     1\n\nМарий Эл                       :     1\n\nМордовия                       :     2\n\nМосква                         :    35\n\nМосковская область             :     4\n\nМурманская область             :     1\n\nНижегородская область          :     4\n\nНовгородская область           :     1\n\nНовосибирская область          :     5\n\nОмская область                 :     5\n\nОренбургская область           :     3\n\nОрловская область              :     3\n\nПензенская область             :     4\n\nПермский край                  :     2\n\nПриморский край                :     2\n\nПсковская область              :     1\n\nРостовская область             :     5\n\nРязанская область              :     1\n\nСамарская область              :     7\n\nСанкт-Петербург                :    15\n\nСаратовская область            :     2\n\nСахалинская область            :     1\n\nСвердловская область           :     8\n\nСеверная Осетия - Алания       :     2\n\nСмоленская область             :     1\n\nСтавропольский край            :     2\n\nТамбовская область             :     1\n\nТатарстан                      :     6\n\nТверская область               :     2\n\nТомская область                :     2\n\nТульская область               :     2\n\nТыва                           :     1\n\nТюменская область              :     4\n\nУдмуртия                       :     3\n\nУльяновская область            :     3\n\nХабаровский край               :     5\n\nХакасия                        :     1\n\nХанты-Мансийский авт. окр.     :     1\n\nЧелябинская область            :     3\n\nЧечня                          :     3\n\nЧувашия                        :     2\n\nЯрославская область            :     4\n\nКрым                           :     1\n\nСевастополь                    :     1\n"
        }
      ],
      "id": "9a0fe31e-57b2-4cba-b5d3-33a79e111473"
    },
    {
      "cell_type": "markdown",
      "source": "## Задание 2",
      "metadata": {
        "tags": []
      },
      "id": "a7032e05-3a73-4aa4-8514-54057f654cf5"
    },
    {
      "cell_type": "code",
      "source": "\n# two way nested list\n\nclass Node:\n    \n    def __init__(self,data=''):\n        self.data = data\n        self.next=None\n        self.prev=None\n\nclass twoWayNestedList:\n    \n    def __init__(self):\n        self.head=None\n        self.length = 0\n    \n    def append(self,line : str):\n        newNode = Node(line)\n        if self.head==None:\n            self.head=newNode\n        else:\n            \n            curr = self.head\n            while curr.next!=None:\n                curr = curr.next\n            \n            curr.next = newNode\n            newNode.prev = curr\n            \n            self.length+=1\n        \n    def getNodeByInd(self,ind:int):\n        \n        curr = self.head\n        for i in range(ind):\n            \n            if curr.next == None:\n                print('have no such node')\n                return 0\n            \n            curr = curr.next\n        \n        return curr\n   \n    def display(self):\n        curr = self.head\n        while curr!=None:\n            print(curr.data)\n            curr = curr.next\n\n    def getData(self):\n        data=[]\n        curr = self.head\n        while curr!=None:\n            data.append(curr.data)\n            curr = curr.next\n        return data\n    \nnestedList = twoWayNestedList()\n\nnestedList.append('123')\nnestedList.append('qwe')\n\nnestedList.display()\n\ndata = nestedList.getData()\nprint(data)",
      "metadata": {},
      "execution_count": 6,
      "outputs": [
        {
          "name": "stdout",
          "output_type": "stream",
          "text": "123\n\nqwe\n\n['123', 'qwe']\n"
        }
      ],
      "id": "77001454-2c26-4d98-9b40-81cb0ea3c667"
    },
    {
      "cell_type": "code",
      "source": "\nIP = '127.0.0.1'\nPORT = 3000\n\n#creating server socket\nos.system('fuser -vn tcp ' + str(PORT))\nos.system('sleep 5')\nserverSock =  socket.socket(socket.AF_INET,socket.SOCK_STREAM)\nserverSock.bind((IP,PORT))\nserverSock.listen(5)\n\n# creating client socket\nclientSock =  socket.socket(socket.AF_INET,socket.SOCK_STREAM)\nclientSock.connect((IP,PORT))\n\nconn,addr = serverSock.accept()\n\nwhile 1:\n    inp = input('enter message: ')\n    if inp=='0':\n        break\n    clientSock.send(inp.encode('utf-8'))\n    \n    reply = conn.recv(1024).decode('utf-8')\n    \n    nestedList.append(reply)\n\nserverSock.close()\nclientSock.close()\nnestedList.display()\n",
      "metadata": {},
      "execution_count": 8,
      "outputs": [
        {
          "name": "stdin",
          "output_type": "stream",
          "text": "enter message:  new line\n\nenter message:  another line\n\nenter message:  third line\n\nenter message:  qweasdzxc\n\nenter message:  123qwe456rty\n\nenter message:  last line\n\nenter message:  0\n"
        },
        {
          "name": "stdout",
          "output_type": "stream",
          "text": "123\n\nqwe\n\nnew line\n\nanother line\n\nthird line\n\nqweasdzxc\n\n123qwe456rty\n\nlast line\n"
        }
      ],
      "id": "f44f948f-2b6f-4b00-aff0-1abbc428c649"
    }
  ]
}