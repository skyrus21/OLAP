{
 "cells": [
  {
   "cell_type": "code",
   "execution_count": 433,
   "id": "a2433bac-b0ec-440b-ae20-4e5372c8ff6b",
   "metadata": {},
   "outputs": [],
   "source": [
    "import os\n",
    "\n",
    "import random\n",
    "\n",
    "import uuid\n",
    "\n",
    "import pymysql\n",
    "import redis\n",
    "import rediscluster\n",
    "\n",
    "import socket\n",
    "\n",
    "from transliterate import translit"
   ]
  },
  {
   "cell_type": "code",
   "execution_count": 434,
   "id": "ba31b4da-ec96-4040-837e-90e4290a63f4",
   "metadata": {},
   "outputs": [],
   "source": [
    "from IPython.display import display\n",
    "from ipyfilechooser import FileChooser"
   ]
  },
  {
   "cell_type": "markdown",
   "id": "46d1147c-7437-4914-8e34-5f81785b4633",
   "metadata": {},
   "source": [
    "## Задание 1"
   ]
  },
  {
   "cell_type": "code",
   "execution_count": 182,
   "id": "1aa55b1c-25a3-4232-b7e0-b8654fdfc03f",
   "metadata": {},
   "outputs": [
    {
     "name": "stdout",
     "output_type": "stream",
     "text": [
      "<pymysql.connections.Connection object at 0x7f808feddc10>\n"
     ]
    },
    {
     "data": {
      "text/plain": [
       "0"
      ]
     },
     "execution_count": 182,
     "metadata": {},
     "output_type": "execute_result"
    }
   ],
   "source": [
    "con = pymysql.connect(host='localhost',user='rayxxx',password='password')\n",
    "print(con)\n",
    "con.query('use nanoedu2015;')"
   ]
  },
  {
   "cell_type": "code",
   "execution_count": 183,
   "id": "670268dc-d240-44f5-9e2a-c9dd13c82768",
   "metadata": {},
   "outputs": [
    {
     "name": "stdout",
     "output_type": "stream",
     "text": [
      "('id', 'int', 'NO', '', '0', '')\n",
      "('short_name', 'varchar(500)', 'NO', '', None, '')\n",
      "('sp_city_id', 'int', 'NO', '', None, '')\n",
      "('checked', 'int', 'NO', '', '0', '')\n",
      "('region_id', 'int', 'NO', '', '0', '')\n",
      "('region_name', 'varchar(200)', 'YES', '', None, '')\n",
      "('city_id', 'int', 'NO', '', '0', '')\n",
      "('city_name', 'varchar(100)', 'YES', '', None, '')\n"
     ]
    }
   ],
   "source": [
    "dbName ='nanoedu2015'\n",
    "viewName = 'sp_vuz_reg_city'\n",
    "\n",
    "crs = con.cursor()\n",
    "crs.execute(f'describe {dbName}.{viewName}')\n",
    "viewDescribe = crs.fetchall()\n",
    "for d in viewDescribe:\n",
    "    print(d)"
   ]
  },
  {
   "cell_type": "code",
   "execution_count": 423,
   "id": "c255b472-5269-48f5-9154-2c4a6b6899e3",
   "metadata": {},
   "outputs": [],
   "source": [
    "\n",
    "crs.execute(f'select region_name, count(id) from {dbName}.{viewName} group by region_name')\n",
    "data = crs.fetchall()\n",
    "\n",
    "reg_vuz_count ={}\n",
    "for row in data:\n",
    "    reg_vuz_count[row[0]]=row[1]\n",
    "  "
   ]
  },
  {
   "cell_type": "code",
   "execution_count": 432,
   "id": "9a0fe31e-57b2-4cba-b5d3-33a79e111473",
   "metadata": {},
   "outputs": [
    {
     "name": "stdout",
     "output_type": "stream",
     "text": [
      "Адыгея                         :     2\n",
      "Алтай                          :     1\n",
      "Алтайский край                 :     4\n",
      "Амурская область               :     2\n",
      "Архангельская область          :     1\n",
      "Астраханская область           :     1\n",
      "Башкортостан                   :     4\n",
      "Белгородская область           :     1\n",
      "Брянская область               :     3\n",
      "Бурятия                        :     2\n",
      "Владимирская область           :     1\n",
      "Волгоградская область          :     4\n",
      "Вологодская область            :     3\n",
      "Воронежская область            :     7\n",
      "Дагестан                       :     3\n",
      "Еврейская АО                   :     1\n",
      "Забайкальский край             :     1\n",
      "Ивановская область             :     5\n",
      "Ингушетия                      :     1\n",
      "Иркутская область              :     7\n",
      "Кабардино-Балкария             :     1\n",
      "Калмыкия                       :     1\n",
      "Калужская область              :     1\n",
      "Камчатский край                :     1\n",
      "Карачаево-Черкесия             :     2\n",
      "Карелия                        :     2\n",
      "Кемеровская область            :     5\n",
      "Кировская область              :     1\n",
      "Коми                           :     2\n",
      "Костромская область            :     2\n",
      "Краснодарский край             :     4\n",
      "Красноярский край              :     5\n",
      "Курганская область             :     2\n",
      "Курская область                :     2\n",
      "Липецкая область               :     3\n",
      "Магаданская область            :     1\n",
      "Марий Эл                       :     1\n",
      "Мордовия                       :     2\n",
      "Москва                         :    35\n",
      "Московская область             :     4\n",
      "Мурманская область             :     1\n",
      "Нижегородская область          :     4\n",
      "Новгородская область           :     1\n",
      "Новосибирская область          :     5\n",
      "Омская область                 :     5\n",
      "Оренбургская область           :     3\n",
      "Орловская область              :     3\n",
      "Пензенская область             :     4\n",
      "Пермский край                  :     2\n",
      "Приморский край                :     2\n",
      "Псковская область              :     1\n",
      "Ростовская область             :     5\n",
      "Рязанская область              :     1\n",
      "Самарская область              :     7\n",
      "Санкт-Петербург                :    15\n",
      "Саратовская область            :     2\n",
      "Сахалинская область            :     1\n",
      "Свердловская область           :     8\n",
      "Северная Осетия - Алания       :     2\n",
      "Смоленская область             :     1\n",
      "Ставропольский край            :     2\n",
      "Тамбовская область             :     1\n",
      "Татарстан                      :     6\n",
      "Тверская область               :     2\n",
      "Томская область                :     2\n",
      "Тульская область               :     2\n",
      "Тыва                           :     1\n",
      "Тюменская область              :     4\n",
      "Удмуртия                       :     3\n",
      "Ульяновская область            :     3\n",
      "Хабаровский край               :     5\n",
      "Хакасия                        :     1\n",
      "Ханты-Мансийский авт. окр.     :     1\n",
      "Челябинская область            :     3\n",
      "Чечня                          :     3\n",
      "Чувашия                        :     2\n",
      "Ярославская область            :     4\n",
      "Крым                           :     1\n",
      "Севастополь                    :     1\n"
     ]
    }
   ],
   "source": [
    "\n",
    "for (k,v) in zip(reg_vuz_count.keys(),reg_vuz_count.values()):\n",
    "    print(f'{k:<30} : {v:>5}')\n",
    "    "
   ]
  },
  {
   "cell_type": "markdown",
   "id": "a7032e05-3a73-4aa4-8514-54057f654cf5",
   "metadata": {
    "tags": []
   },
   "source": [
    "## Задание 2"
   ]
  },
  {
   "cell_type": "code",
   "execution_count": 6,
   "id": "77001454-2c26-4d98-9b40-81cb0ea3c667",
   "metadata": {},
   "outputs": [
    {
     "name": "stdout",
     "output_type": "stream",
     "text": [
      "123\n",
      "qwe\n",
      "['123', 'qwe']\n"
     ]
    }
   ],
   "source": [
    "\n",
    "# two way nested list\n",
    "\n",
    "class Node:\n",
    "    \n",
    "    def __init__(self,data=''):\n",
    "        self.data = data\n",
    "        self.next=None\n",
    "        self.prev=None\n",
    "\n",
    "class twoWayNestedList:\n",
    "    \n",
    "    def __init__(self):\n",
    "        self.head=None\n",
    "        self.length = 0\n",
    "    \n",
    "    def append(self,line : str):\n",
    "        newNode = Node(line)\n",
    "        if self.head==None:\n",
    "            self.head=newNode\n",
    "        else:\n",
    "            \n",
    "            curr = self.head\n",
    "            while curr.next!=None:\n",
    "                curr = curr.next\n",
    "            \n",
    "            curr.next = newNode\n",
    "            newNode.prev = curr\n",
    "            \n",
    "            self.length+=1\n",
    "        \n",
    "    def getNodeByInd(self,ind:int):\n",
    "        \n",
    "        curr = self.head\n",
    "        for i in range(ind):\n",
    "            \n",
    "            if curr.next == None:\n",
    "                print('have no such node')\n",
    "                return 0\n",
    "            \n",
    "            curr = curr.next\n",
    "        \n",
    "        return curr\n",
    "   \n",
    "    def display(self):\n",
    "        curr = self.head\n",
    "        while curr!=None:\n",
    "            print(curr.data)\n",
    "            curr = curr.next\n",
    "\n",
    "    def getData(self):\n",
    "        data=[]\n",
    "        curr = self.head\n",
    "        while curr!=None:\n",
    "            data.append(curr.data)\n",
    "            curr = curr.next\n",
    "        return data\n",
    "    \n",
    "nestedList = twoWayNestedList()\n",
    "\n",
    "nestedList.append('123')\n",
    "nestedList.append('qwe')\n",
    "\n",
    "nestedList.display()\n",
    "\n",
    "data = nestedList.getData()\n",
    "print(data)"
   ]
  },
  {
   "cell_type": "code",
   "execution_count": 8,
   "id": "f44f948f-2b6f-4b00-aff0-1abbc428c649",
   "metadata": {},
   "outputs": [
    {
     "name": "stdin",
     "output_type": "stream",
     "text": [
      "enter message:  new line\n",
      "enter message:  another line\n",
      "enter message:  third line\n",
      "enter message:  qweasdzxc\n",
      "enter message:  123qwe456rty\n",
      "enter message:  last line\n",
      "enter message:  0\n"
     ]
    },
    {
     "name": "stdout",
     "output_type": "stream",
     "text": [
      "123\n",
      "qwe\n",
      "new line\n",
      "another line\n",
      "third line\n",
      "qweasdzxc\n",
      "123qwe456rty\n",
      "last line\n"
     ]
    }
   ],
   "source": [
    "\n",
    "IP = '127.0.0.1'\n",
    "PORT = 3000\n",
    "\n",
    "#creating server socket\n",
    "os.system('fuser -vn tcp ' + str(PORT))\n",
    "os.system('sleep 5')\n",
    "serverSock =  socket.socket(socket.AF_INET,socket.SOCK_STREAM)\n",
    "serverSock.bind((IP,PORT))\n",
    "serverSock.listen(5)\n",
    "\n",
    "# creating client socket\n",
    "clientSock =  socket.socket(socket.AF_INET,socket.SOCK_STREAM)\n",
    "clientSock.connect((IP,PORT))\n",
    "\n",
    "conn,addr = serverSock.accept()\n",
    "\n",
    "while 1:\n",
    "    inp = input('enter message: ')\n",
    "    if inp=='0':\n",
    "        break\n",
    "    clientSock.send(inp.encode('utf-8'))\n",
    "    \n",
    "    reply = conn.recv(1024).decode('utf-8')\n",
    "    \n",
    "    nestedList.append(reply)\n",
    "\n",
    "serverSock.close()\n",
    "clientSock.close()\n",
    "nestedList.display()\n"
   ]
  },
  {
   "cell_type": "markdown",
   "id": "b4f39fad-af4b-4a02-964c-577a38a03812",
   "metadata": {},
   "source": [
    "## Задание 3"
   ]
  },
  {
   "cell_type": "code",
   "execution_count": 388,
   "id": "b476347a-abd9-41ec-8c0c-c14bc22882a3",
   "metadata": {},
   "outputs": [
    {
     "data": {
      "text/plain": [
       "0"
      ]
     },
     "execution_count": 388,
     "metadata": {},
     "output_type": "execute_result"
    },
    {
     "name": "stdout",
     "output_type": "stream",
     "text": [
      "208150:C 09 Apr 2022 16:57:59.292 # oO0OoO0OoO0Oo Redis is starting oO0OoO0OoO0Oo\n",
      "208150:C 09 Apr 2022 16:57:59.292 # Redis version=5.0.7, bits=64, commit=00000000, modified=0, pid=208150, just started\n",
      "208150:C 09 Apr 2022 16:57:59.292 # Configuration loaded\n"
     ]
    }
   ],
   "source": [
    "\n",
    "os.system('redis-server --port 3500 &')\n"
   ]
  },
  {
   "cell_type": "code",
   "execution_count": 389,
   "id": "fc1021a4-1ccc-4d61-afb4-1405ab885351",
   "metadata": {},
   "outputs": [
    {
     "name": "stdout",
     "output_type": "stream",
     "text": [
      "208150:M 09 Apr 2022 16:57:59.292 * Increased maximum number of open files to 10032 (it was originally set to 4096).\n",
      "208150:M 09 Apr 2022 16:57:59.293 * Running mode=standalone, port=3500.\n",
      "208150:M 09 Apr 2022 16:57:59.293 # Server initialized\n",
      "208150:M 09 Apr 2022 16:57:59.293 # WARNING you have Transparent Huge Pages (THP) support enabled in your kernel. This will create latency and memory usage issues with Redis. To fix this issue run the command 'echo never > /sys/kernel/mm/transparent_hugepage/enabled' as root, and add it to your /etc/rc.local in order to retain the setting after a reboot. Redis must be restarted after THP is disabled.\n",
      "208150:M 09 Apr 2022 16:57:59.294 * Ready to accept connections\n",
      "Redis<ConnectionPool<Connection<host=localhost,port=3500,db=0>>>\n"
     ]
    }
   ],
   "source": [
    "\n",
    "redcon = redis.Redis(host='localhost',port='3500',db=0, charset=\"utf-8\")\n",
    "redcon.flushdb()\n",
    "print(redcon)\n"
   ]
  },
  {
   "cell_type": "markdown",
   "id": "eeb36b1d-c707-4dfa-9ab5-6a08e453bfe7",
   "metadata": {},
   "source": [
    "### пункт 1"
   ]
  },
  {
   "cell_type": "code",
   "execution_count": 390,
   "id": "1e3c51a0-c514-4789-872c-d0d5b6e0047f",
   "metadata": {},
   "outputs": [
    {
     "name": "stdout",
     "output_type": "stream",
     "text": [
      "[b'Chechnja', b'Permskij kraj', b\"Tul'skaja oblast'\", b\"Orenburgskaja oblast'\", b'Altajskij kraj', b'Chuvashija', b\"Tomskaja oblast'\", b\"Stavropol'skij kraj\", b\"Brjanskaja oblast'\", b\"Nizhegorodskaja oblast'\", b\"Sverdlovskaja oblast'\", b'Hanty-Mansijskij avt. okr.', b'Habarovskij kraj', b'Bashkortostan', b\"Rjazanskaja oblast'\", b'Karelija', b'Moskva', b\"Jaroslavskaja oblast'\", b\"Tjumenskaja oblast'\", b\"Vladimirskaja oblast'\", b\"Volgogradskaja oblast'\", b\"Kurganskaja oblast'\", b'Severnaja Osetija - Alanija', b'Kamchatskij kraj', b'Udmurtija', b\"Kaluzhskaja oblast'\", b\"Pskovskaja oblast'\", b\"Vologodskaja oblast'\", b\"Kostromskaja oblast'\", b'Komi', b\"Ivanovskaja oblast'\", b'Dagestan', b'Marij El', b\"Belgorodskaja oblast'\", b'Mordovija', b'Tyva', b\"Kemerovskaja oblast'\", b\"Sahalinskaja oblast'\", b'Krasnojarskij kraj', b\"Sevastopol'\", b'Krym', b'Evrejskaja AO', b\"Orlovskaja oblast'\", b\"Lipetskaja oblast'\", b\"Cheljabinskaja oblast'\", b\"Kurskaja oblast'\", b\"Voronezhskaja oblast'\", b'Sankt-Peterburg', b\"Tambovskaja oblast'\", b\"Astrahanskaja oblast'\", b'Kalmykija', b\"Amurskaja oblast'\", b\"Moskovskaja oblast'\", b'Ingushetija', b\"Magadanskaja oblast'\", b'Burjatija', b'Kabardino-Balkarija', b'Altaj', b\"Novgorodskaja oblast'\", b\"Omskaja oblast'\", b'Karachaevo-Cherkesija', b\"Rostovskaja oblast'\", b\"Ul'janovskaja oblast'\", b'Primorskij kraj', b'Hakasija', b'Krasnodarskij kraj', b\"Kirovskaja oblast'\", b'Adygeja', b\"Tverskaja oblast'\", b'Tatarstan', b\"Novosibirskaja oblast'\", b\"Smolenskaja oblast'\", b\"Irkutskaja oblast'\", b\"Arhangel'skaja oblast'\", b\"Samarskaja oblast'\", b\"Zabajkal'skij kraj\", b\"Murmanskaja oblast'\", b\"Penzenskaja oblast'\", b\"Saratovskaja oblast'\"]\n"
     ]
    }
   ],
   "source": [
    "\n",
    "for (k,v) in zip(reg_vuz_count.keys(),reg_vuz_count.values()):\n",
    "    redcon.set(translit(k,reversed=True),v)\n",
    "\n",
    "print(redcon.keys())\n"
   ]
  },
  {
   "cell_type": "markdown",
   "id": "f1a0a8b4-a72a-48ff-b10c-4a308a4ff1f7",
   "metadata": {},
   "source": [
    "### пункт 2"
   ]
  },
  {
   "cell_type": "code",
   "execution_count": 391,
   "id": "db9145ec-bc5e-40a7-980e-931dd2cb696f",
   "metadata": {},
   "outputs": [
    {
     "name": "stdout",
     "output_type": "stream",
     "text": [
      "Redis<ConnectionPool<Connection<host=localhost,port=3500,db=1>>>\n"
     ]
    }
   ],
   "source": [
    "\n",
    "redcon = redis.Redis(host='localhost',port='3500',db=1, charset=\"utf-8\")\n",
    "redcon.flushdb()\n",
    "print(redcon)\n"
   ]
  },
  {
   "cell_type": "code",
   "execution_count": 392,
   "id": "8f4e1704-027a-4709-9439-15599e59f9de",
   "metadata": {},
   "outputs": [],
   "source": [
    "\n",
    "numOfHtab = 20\n",
    "UUIDs= [uuid.uuid4().hex for i in range(numOfHtab)]\n",
    "\n",
    "dictLen = len(reg_vuz_count.keys())\n",
    "for (k,v) in zip(reg_vuz_count.keys(),reg_vuz_count.values()):\n",
    "    redcon.hset(str(random.choice(UUIDs)),mapping={translit(k,reversed=True):v}) \n"
   ]
  },
  {
   "cell_type": "code",
   "execution_count": 393,
   "id": "a051b4bb-5725-4e1f-a998-4eddbf88fd4a",
   "metadata": {},
   "outputs": [
    {
     "data": {
      "text/plain": [
       "[b'2cb1c3d211bd4efdabc56747fb34bd30',\n",
       " b'c39f501e18f64cfc968884ce94fed666',\n",
       " b'976a26b691914e5cbae96e83e908e84e',\n",
       " b'9906e69b66bc4ab7abc377e4ede3b23f',\n",
       " b'5172322d94d84f0ca27ca7b165f1f977',\n",
       " b'58c986b15b7049839cbcb7f92f0b5e23',\n",
       " b'88ed20ae77534ea498198151983b2957',\n",
       " b'0bb3463a34884b0f815679df2bea2d51',\n",
       " b'4bed54cac2fd42f69bea265332920a0f',\n",
       " b'12e2654e35e746cdb3d17d3f23108896',\n",
       " b'1d958aacfc3b4146bc568546f34db153',\n",
       " b'c78461d1233844b692a4e479e41db195',\n",
       " b'90265b9d0be64037967089ec2d83a610',\n",
       " b'b8e41a3374c54ebca06efe1736564b9e',\n",
       " b'7b0bca22c2aa463eae968c78d1d1e35b',\n",
       " b'3cab5d02dda047bdbddb81d3a3e4d09f',\n",
       " b'e7792ab9be2e4140a3fb1daf93a8c317',\n",
       " b'7871e18b6c9343b5bba7295979c7e919',\n",
       " b'c05c1a88649740efb3ca9de54f585f99',\n",
       " b'f6793fd15ef74c30a5b0101533ef0579']"
      ]
     },
     "execution_count": 393,
     "metadata": {},
     "output_type": "execute_result"
    }
   ],
   "source": [
    "\n",
    "print(redcon.keys())\n"
   ]
  },
  {
   "cell_type": "code",
   "execution_count": 394,
   "id": "114624b6-5289-4827-b4dd-a6a10fb3a5bf",
   "metadata": {},
   "outputs": [
    {
     "name": "stdout",
     "output_type": "stream",
     "text": [
      "[b'Karelija']\n",
      "b'2'\n"
     ]
    }
   ],
   "source": [
    "\n",
    "Hkeys = redcon.hkeys(redcon.keys()[0])\n",
    "\n",
    "print(Hkeys)\n",
    "print(redcon.hget(redcon.keys()[0],Hkeys[0]))\n"
   ]
  },
  {
   "cell_type": "markdown",
   "id": "9ac2bfe2-e30c-4370-977a-d72fda516290",
   "metadata": {},
   "source": [
    "### пункт 3"
   ]
  },
  {
   "cell_type": "code",
   "execution_count": 395,
   "id": "2d79fbd4-0732-43e6-91e0-9c701de8d773",
   "metadata": {},
   "outputs": [
    {
     "name": "stdout",
     "output_type": "stream",
     "text": [
      "Redis<ConnectionPool<Connection<host=localhost,port=3500,db=2>>>\n"
     ]
    }
   ],
   "source": [
    "\n",
    "redcon = redis.Redis(host='localhost',port='3500',db=2, charset=\"utf-8\")\n",
    "redcon.flushdb()\n",
    "print(redcon)\n"
   ]
  },
  {
   "cell_type": "code",
   "execution_count": 396,
   "id": "bd2329ac-42d9-481c-a360-37941a5c3bc7",
   "metadata": {},
   "outputs": [
    {
     "data": {
      "text/plain": [
       "[b'123',\n",
       " b'qwe',\n",
       " b'new line',\n",
       " b'another line',\n",
       " b'third line',\n",
       " b'qweasdzxc',\n",
       " b'123qwe456rty',\n",
       " b'last line']"
      ]
     },
     "execution_count": 396,
     "metadata": {},
     "output_type": "execute_result"
    }
   ],
   "source": [
    "\n",
    "key = 'nestedListData'\n",
    "for d in nestedList.getData():\n",
    "    redcon.rpush(key,d)\n",
    "\n",
    "redcon.lrange(key,0,-1)\n",
    "    "
   ]
  },
  {
   "cell_type": "markdown",
   "id": "13f980c6-082f-4254-b889-5dd219a662cb",
   "metadata": {},
   "source": [
    "## Задание 4"
   ]
  },
  {
   "cell_type": "markdown",
   "id": "3acbc2dc-abc0-4f34-bf0f-b829f5c47f4b",
   "metadata": {},
   "source": [
    "### Перенос баз данных, созданных в задании 3, на redis-cluster"
   ]
  },
  {
   "cell_type": "code",
   "execution_count": 397,
   "id": "d1ec8b04-0315-41d5-a415-daca557529b1",
   "metadata": {},
   "outputs": [
    {
     "name": "stdout",
     "output_type": "stream",
     "text": [
      "RedisCluster<localhost:8000>\n"
     ]
    }
   ],
   "source": [
    "\n",
    "redclust = rediscluster.RedisCluster(host='localhost',port='8000')\n",
    "print(redclust)\n"
   ]
  },
  {
   "cell_type": "code",
   "execution_count": 398,
   "id": "f94d1aa0-9604-4929-9512-dc69a60ed8af",
   "metadata": {},
   "outputs": [
    {
     "data": {
      "text/plain": [
       "{'127.0.0.1:8001': True, '127.0.0.1:8002': True, '127.0.0.1:8000': True}"
      ]
     },
     "execution_count": 398,
     "metadata": {},
     "output_type": "execute_result"
    }
   ],
   "source": [
    "redclust.flushall()"
   ]
  },
  {
   "cell_type": "markdown",
   "id": "4f847322-cd3c-4105-83cd-6616b607dcc4",
   "metadata": {},
   "source": [
    "### Пункт 1: запись данных пункта 1 задания 3"
   ]
  },
  {
   "cell_type": "code",
   "execution_count": 399,
   "id": "8b7a5e53-7f33-4d04-9f36-b108330c74ec",
   "metadata": {},
   "outputs": [
    {
     "name": "stdout",
     "output_type": "stream",
     "text": [
      "Redis<ConnectionPool<Connection<host=localhost,port=3500,db=0>>>\n"
     ]
    }
   ],
   "source": [
    "\n",
    "redcon = redis.Redis(host='localhost',port='3500',db=0, charset=\"utf-8\")\n",
    "print(redcon)\n"
   ]
  },
  {
   "cell_type": "code",
   "execution_count": 400,
   "id": "dcc6bab8-b738-4dca-9a90-fb06779a5f02",
   "metadata": {},
   "outputs": [],
   "source": [
    "\n",
    "dbHTabName = 'region_vuz_number'\n",
    "\n",
    "redclust.delete(dbHTabName)\n",
    "\n",
    "keys = redcon.keys()\n",
    "vals = [redcon.get(k) for k in keys]\n",
    "\n",
    "\n",
    "for (k,v) in zip(reg_vuz_count.keys(),reg_vuz_count.values()):\n",
    "    redclust.hset(dbHTabName,mapping={translit(k,reversed=True):v}) \n"
   ]
  },
  {
   "cell_type": "code",
   "execution_count": 401,
   "id": "15fe8173-d497-4fa2-a1c0-bc9bd70b3989",
   "metadata": {},
   "outputs": [
    {
     "name": "stdout",
     "output_type": "stream",
     "text": [
      "[b'region_vuz_number']\n",
      "[b'Adygeja', b'Altaj', b'Altajskij kraj', b\"Amurskaja oblast'\", b\"Arhangel'skaja oblast'\"]\n",
      "b'2'\n"
     ]
    }
   ],
   "source": [
    "Keys = redclust.keys()\n",
    "print(Keys[:min(5,len(Hkeys))])\n",
    "\n",
    "Hkeys = redclust.hkeys(dbHTabName)\n",
    "print(Hkeys[:min(5,len(Hkeys))])\n",
    "\n",
    "print(redclust.hget(dbHTabName,Hkeys[0]))\n"
   ]
  },
  {
   "cell_type": "markdown",
   "id": "0dd31eda-5f56-463a-b67b-59017b28dfe4",
   "metadata": {},
   "source": [
    "### Пункт 2: запись данных пункта 2 задания 3"
   ]
  },
  {
   "cell_type": "code",
   "execution_count": 402,
   "id": "667034b3-c6f0-47b4-9fd9-899d4a1ef59d",
   "metadata": {},
   "outputs": [
    {
     "name": "stdout",
     "output_type": "stream",
     "text": [
      "Redis<ConnectionPool<Connection<host=localhost,port=3500,db=1>>>\n"
     ]
    }
   ],
   "source": [
    "\n",
    "redcon = redis.Redis(host='localhost',port='3500',db=1, charset=\"utf-8\")\n",
    "print(redcon)\n"
   ]
  },
  {
   "cell_type": "code",
   "execution_count": 403,
   "id": "af1005df-1a10-49a1-afe0-680d78e6064a",
   "metadata": {},
   "outputs": [],
   "source": [
    "\n",
    "dbListName = 'region_vuz_number_2'\n",
    "\n",
    "redclust.delete(dbListName)\n",
    "\n",
    "htabkeys = redcon.keys()\n",
    "for tabk in htabkeys:\n",
    "    for hk in redcon.hkeys(tabk):\n",
    "        k = hk\n",
    "        v = redcon.hget(tabk,hk)\n",
    "\n",
    "        redclust.hset(tabk,mapping={k:v}) \n",
    "    redclust.rpush(dbListName,tabk) \n",
    "    "
   ]
  },
  {
   "cell_type": "code",
   "execution_count": 404,
   "id": "a1ba4133-2a5f-464e-ba68-b1363a826b72",
   "metadata": {},
   "outputs": [
    {
     "name": "stdout",
     "output_type": "stream",
     "text": [
      "[b'2cb1c3d211bd4efdabc56747fb34bd30', b'c39f501e18f64cfc968884ce94fed666', b'976a26b691914e5cbae96e83e908e84e', b'9906e69b66bc4ab7abc377e4ede3b23f', b'5172322d94d84f0ca27ca7b165f1f977']\n",
      "[b'Karelija']\n",
      "b'2'\n"
     ]
    }
   ],
   "source": [
    "\n",
    "Keys = redclust.lrange(dbListName,0,-1)\n",
    "print(Keys[0:min(5,len(Keys))])\n",
    "\n",
    "tabKeys = redclust.hkeys(Keys[0])\n",
    "print(tabKeys[0:min(5,len(tabKeys))])\n",
    "\n",
    "print( redclust.hget(Keys[0],tabKeys[0]))\n"
   ]
  },
  {
   "cell_type": "markdown",
   "id": "d3304222-f6e7-40b1-8f09-273d1f788309",
   "metadata": {},
   "source": [
    "### Пункт 3: запись данных пункта 3 задания 3"
   ]
  },
  {
   "cell_type": "code",
   "execution_count": 405,
   "id": "05a96031-b7c3-4fa0-a65a-eecee53a0027",
   "metadata": {},
   "outputs": [
    {
     "name": "stdout",
     "output_type": "stream",
     "text": [
      "Redis<ConnectionPool<Connection<host=localhost,port=3500,db=2>>>\n"
     ]
    }
   ],
   "source": [
    "\n",
    "redcon = redis.Redis(host='localhost',port='3500',db=2, charset=\"utf-8\")\n",
    "print(redcon)\n"
   ]
  },
  {
   "cell_type": "code",
   "execution_count": 406,
   "id": "84db87f2-2bfa-44b2-8105-24a7b4c9bdbf",
   "metadata": {},
   "outputs": [
    {
     "name": "stdout",
     "output_type": "stream",
     "text": [
      "b'nestedListData'\n",
      "[b'123', b'qwe', b'new line', b'another line', b'third line', b'qweasdzxc', b'123qwe456rty', b'last line']\n"
     ]
    }
   ],
   "source": [
    "\n",
    "ListName = redcon.keys()[0]\n",
    "redclust.delete(ListName)\n",
    "\n",
    "records = redcon.lrange(ListName,0,-1)\n",
    "\n",
    "print(ListName)\n",
    "print(records)\n",
    "\n",
    "for r in records:\n",
    "    redclust.rpush(ListName,r)\n"
   ]
  },
  {
   "cell_type": "code",
   "execution_count": 407,
   "id": "252be82f-15fb-4f52-83e7-bd49033c862c",
   "metadata": {},
   "outputs": [
    {
     "name": "stdout",
     "output_type": "stream",
     "text": [
      "[b'123', b'qwe', b'new line', b'another line', b'third line', b'qweasdzxc', b'123qwe456rty', b'last line']\n"
     ]
    }
   ],
   "source": [
    "\n",
    "records = redclust.lrange(ListName,0,-1)\n",
    "print(records)\n"
   ]
  },
  {
   "cell_type": "markdown",
   "id": "dcdc85f6-00ef-42be-9a12-b138752835cc",
   "metadata": {
    "tags": []
   },
   "source": [
    "### Перенос данных из redis-cluster обратно в mysql"
   ]
  },
  {
   "cell_type": "code",
   "execution_count": 408,
   "id": "626ea647-5e86-4c4f-9fdf-167d7862de31",
   "metadata": {},
   "outputs": [
    {
     "name": "stdout",
     "output_type": "stream",
     "text": [
      "RedisCluster<localhost:8000>\n"
     ]
    }
   ],
   "source": [
    "\n",
    "redclust = rediscluster.RedisCluster(host='localhost',port='8000')\n",
    "print(redclust)\n"
   ]
  },
  {
   "cell_type": "code",
   "execution_count": 409,
   "id": "670393f3-a7c6-462f-9cd0-7dd80a0829b7",
   "metadata": {},
   "outputs": [
    {
     "name": "stdout",
     "output_type": "stream",
     "text": [
      "<pymysql.connections.Connection object at 0x7f80a4644c40>\n"
     ]
    }
   ],
   "source": [
    "\n",
    "sqlconn = pymysql.connect(host='localhost',user='root',password='password');\n",
    "sqlconn.query('use Redis;')\n",
    "print(sqlconn)\n"
   ]
  },
  {
   "cell_type": "code",
   "execution_count": 410,
   "id": "b27ddcb9-616a-44d2-b4ca-937f8e367c4d",
   "metadata": {},
   "outputs": [
    {
     "name": "stdout",
     "output_type": "stream",
     "text": [
      "(('nested_list_records',), ('region_vuz_number',), ('region_vuz_number_2',))\n"
     ]
    }
   ],
   "source": [
    "\n",
    "crs = sqlconn.cursor()\n",
    "\n",
    "crs.execute('show tables;')\n",
    "tablesList = crs.fetchall()\n",
    "\n",
    "print(tablesList)\n"
   ]
  },
  {
   "cell_type": "markdown",
   "id": "36a03ced-bb66-48f7-8a02-ab20068fa528",
   "metadata": {},
   "source": [
    "### Пункт 1: запись данных пункта 1 задания 4"
   ]
  },
  {
   "cell_type": "code",
   "execution_count": 411,
   "id": "023559ca-5d39-44c5-9b70-0fd669646453",
   "metadata": {},
   "outputs": [
    {
     "data": {
      "text/plain": [
       "0"
      ]
     },
     "execution_count": 411,
     "metadata": {},
     "output_type": "execute_result"
    }
   ],
   "source": [
    "\n",
    "tabName = 'region_vuz_number'\n",
    "crs.execute(f'truncate {tabName};')\n"
   ]
  },
  {
   "cell_type": "code",
   "execution_count": 412,
   "id": "597df855-f892-4c87-ae5a-773c3ee772a8",
   "metadata": {},
   "outputs": [
    {
     "name": "stdout",
     "output_type": "stream",
     "text": [
      "('region_name', 'varchar(40)', 'NO', 'PRI', None, '')\n",
      "('vuz_number', 'int', 'YES', '', '0', '')\n"
     ]
    }
   ],
   "source": [
    "\n",
    "crs.execute(f'describe region_vuz_number;')\n",
    "tab1Describe = crs.fetchall()\n",
    "for line in tab1Describe:\n",
    "    print(line)\n"
   ]
  },
  {
   "cell_type": "code",
   "execution_count": 413,
   "id": "b87beed5-e072-44a6-9713-6964ee9199b7",
   "metadata": {},
   "outputs": [],
   "source": [
    "\n",
    "keys = redclust.hkeys(tabName)\n",
    "vals = [redclust.hget(tabName,k) for k in keys]\n",
    "\n",
    "for (k,v) in zip(keys,vals):\n",
    "    query = f'insert into region_vuz_number(region_name,vuz_number) values (\"{k.decode(\"utf-8\")[:-1]}\",{v.decode(\"utf-8\")})'\n",
    "    crs.execute(query)\n"
   ]
  },
  {
   "cell_type": "code",
   "execution_count": 414,
   "id": "ea044143-4657-410b-b2c3-9212d5fa255e",
   "metadata": {},
   "outputs": [
    {
     "name": "stdout",
     "output_type": "stream",
     "text": [
      "(('Adygej', 2), ('Alta', 1), ('Altajskij kra', 4), ('Amurskaja oblast', 2), (\"Arhangel'skaja oblast\", 1), ('Astrahanskaja oblast', 1), ('Bashkortosta', 4), ('Belgorodskaja oblast', 1), ('Brjanskaja oblast', 3), ('Burjatij', 2), ('Chechnj', 3), ('Cheljabinskaja oblast', 3), ('Chuvashij', 2), ('Dagesta', 3), ('Evrejskaja A', 1), ('Habarovskij kra', 5), ('Hakasij', 1), ('Hanty-Mansijskij avt. okr', 1), ('Ingushetij', 1), ('Irkutskaja oblast', 7), ('Ivanovskaja oblast', 5), ('Jaroslavskaja oblast', 4), ('Kabardino-Balkarij', 1), ('Kalmykij', 1), ('Kaluzhskaja oblast', 1), ('Kamchatskij kra', 1), ('Karachaevo-Cherkesij', 2), ('Karelij', 2), ('Kemerovskaja oblast', 5), ('Kirovskaja oblast', 1), ('Kom', 2), ('Kostromskaja oblast', 2), ('Krasnodarskij kra', 4), ('Krasnojarskij kra', 5), ('Kry', 1), ('Kurganskaja oblast', 2), ('Kurskaja oblast', 2), ('Lipetskaja oblast', 3), ('Magadanskaja oblast', 1), ('Marij E', 1), ('Mordovij', 2), ('Moskovskaja oblast', 4), ('Moskv', 35), ('Murmanskaja oblast', 1), ('Nizhegorodskaja oblast', 4), ('Novgorodskaja oblast', 1), ('Novosibirskaja oblast', 5), ('Omskaja oblast', 5), ('Orenburgskaja oblast', 3), ('Orlovskaja oblast', 3), ('Penzenskaja oblast', 4), ('Permskij kra', 2), ('Primorskij kra', 2), ('Pskovskaja oblast', 1), ('Rjazanskaja oblast', 1), ('Rostovskaja oblast', 5), ('Sahalinskaja oblast', 1), ('Samarskaja oblast', 7), ('Sankt-Peterbur', 15), ('Saratovskaja oblast', 2), ('Sevastopol', 1), ('Severnaja Osetija - Alanij', 2), ('Smolenskaja oblast', 1), (\"Stavropol'skij kra\", 2), ('Sverdlovskaja oblast', 8), ('Tambovskaja oblast', 1), ('Tatarsta', 6), ('Tjumenskaja oblast', 4), ('Tomskaja oblast', 2), (\"Tul'skaja oblast\", 2), ('Tverskaja oblast', 2), ('Tyv', 1), ('Udmurtij', 3), (\"Ul'janovskaja oblast\", 3), ('Vladimirskaja oblast', 1), ('Volgogradskaja oblast', 4), ('Vologodskaja oblast', 3), ('Voronezhskaja oblast', 7), (\"Zabajkal'skij kra\", 1))\n"
     ]
    }
   ],
   "source": [
    "\n",
    "crs.execute('select * from region_vuz_number')\n",
    "data = crs.fetchall()\n",
    "print(data)\n"
   ]
  },
  {
   "cell_type": "markdown",
   "id": "62f7d138-fdf5-45e4-80a0-432be04ff9a9",
   "metadata": {},
   "source": [
    "### Пункт 2: запись данных пункта 2 задания 4"
   ]
  },
  {
   "cell_type": "code",
   "execution_count": 415,
   "id": "6099a976-86ef-40eb-b40c-b89ea09a571f",
   "metadata": {},
   "outputs": [
    {
     "data": {
      "text/plain": [
       "0"
      ]
     },
     "execution_count": 415,
     "metadata": {},
     "output_type": "execute_result"
    }
   ],
   "source": [
    "\n",
    "tabName = 'region_vuz_number_2'\n",
    "crs.execute(f'truncate {tabName};')\n"
   ]
  },
  {
   "cell_type": "code",
   "execution_count": 416,
   "id": "7e6fdbf6-0c65-4249-8f16-2fc3d5361efc",
   "metadata": {},
   "outputs": [
    {
     "name": "stdout",
     "output_type": "stream",
     "text": [
      "('region_name', 'varchar(40)', 'NO', 'PRI', None, '')\n",
      "('vuz_number', 'int', 'YES', '', '0', '')\n"
     ]
    }
   ],
   "source": [
    "\n",
    "crs.execute(f'describe {tabName};')\n",
    "tab1Describe = crs.fetchall()\n",
    "for line in tab1Describe:\n",
    "    print(line)\n"
   ]
  },
  {
   "cell_type": "code",
   "execution_count": 417,
   "id": "c0805f28-6e08-4079-a06e-28bc35e819d3",
   "metadata": {},
   "outputs": [],
   "source": [
    "\n",
    "ListKeys = redclust.lrange(dbListName,0,-1)\n",
    "for tab in ListKeys:\n",
    "    for tk in redclust.hkeys(tab):\n",
    "        k = tk\n",
    "        v = redclust.hget(tab,tk)\n",
    "        query = f'insert into {tabName}(region_name,vuz_number) values (\"{k.decode(\"utf-8\")[:-1]}\",{v.decode(\"utf-8\")})'\n",
    "        crs.execute(query)\n"
   ]
  },
  {
   "cell_type": "code",
   "execution_count": 418,
   "id": "52c52eb4-b96f-48f4-9346-b039ebc84137",
   "metadata": {},
   "outputs": [
    {
     "name": "stdout",
     "output_type": "stream",
     "text": [
      "(('Adygej', 2), ('Alta', 1), ('Altajskij kra', 4), ('Amurskaja oblast', 2), (\"Arhangel'skaja oblast\", 1), ('Astrahanskaja oblast', 1), ('Bashkortosta', 4), ('Belgorodskaja oblast', 1), ('Brjanskaja oblast', 3), ('Burjatij', 2), ('Chechnj', 3), ('Cheljabinskaja oblast', 3), ('Chuvashij', 2), ('Dagesta', 3), ('Evrejskaja A', 1), ('Habarovskij kra', 5), ('Hakasij', 1), ('Hanty-Mansijskij avt. okr', 1), ('Ingushetij', 1), ('Irkutskaja oblast', 7), ('Ivanovskaja oblast', 5), ('Jaroslavskaja oblast', 4), ('Kabardino-Balkarij', 1), ('Kalmykij', 1), ('Kaluzhskaja oblast', 1), ('Kamchatskij kra', 1), ('Karachaevo-Cherkesij', 2), ('Karelij', 2), ('Kemerovskaja oblast', 5), ('Kirovskaja oblast', 1), ('Kom', 2), ('Kostromskaja oblast', 2), ('Krasnodarskij kra', 4), ('Krasnojarskij kra', 5), ('Kry', 1), ('Kurganskaja oblast', 2), ('Kurskaja oblast', 2), ('Lipetskaja oblast', 3), ('Magadanskaja oblast', 1), ('Marij E', 1), ('Mordovij', 2), ('Moskovskaja oblast', 4), ('Moskv', 35), ('Murmanskaja oblast', 1), ('Nizhegorodskaja oblast', 4), ('Novgorodskaja oblast', 1), ('Novosibirskaja oblast', 5), ('Omskaja oblast', 5), ('Orenburgskaja oblast', 3), ('Orlovskaja oblast', 3), ('Penzenskaja oblast', 4), ('Permskij kra', 2), ('Primorskij kra', 2), ('Pskovskaja oblast', 1), ('Rjazanskaja oblast', 1), ('Rostovskaja oblast', 5), ('Sahalinskaja oblast', 1), ('Samarskaja oblast', 7), ('Sankt-Peterbur', 15), ('Saratovskaja oblast', 2), ('Sevastopol', 1), ('Severnaja Osetija - Alanij', 2), ('Smolenskaja oblast', 1), (\"Stavropol'skij kra\", 2), ('Sverdlovskaja oblast', 8), ('Tambovskaja oblast', 1), ('Tatarsta', 6), ('Tjumenskaja oblast', 4), ('Tomskaja oblast', 2), (\"Tul'skaja oblast\", 2), ('Tverskaja oblast', 2), ('Tyv', 1), ('Udmurtij', 3), (\"Ul'janovskaja oblast\", 3), ('Vladimirskaja oblast', 1), ('Volgogradskaja oblast', 4), ('Vologodskaja oblast', 3), ('Voronezhskaja oblast', 7), (\"Zabajkal'skij kra\", 1))\n"
     ]
    }
   ],
   "source": [
    "\n",
    "crs.execute('select * from region_vuz_number_2')\n",
    "data = crs.fetchall()\n",
    "print(data)\n"
   ]
  },
  {
   "cell_type": "markdown",
   "id": "0e2eabec-3214-43ba-bd09-6047e7a06b87",
   "metadata": {},
   "source": [
    "### Пункт 3: запись данных пункта 3 задания 4"
   ]
  },
  {
   "cell_type": "code",
   "execution_count": 441,
   "id": "98dd1218-1a84-4082-b406-491e0704f313",
   "metadata": {},
   "outputs": [
    {
     "data": {
      "text/plain": [
       "0"
      ]
     },
     "execution_count": 441,
     "metadata": {},
     "output_type": "execute_result"
    }
   ],
   "source": [
    "\n",
    "tabName = 'nested_list_records'\n",
    "crs.execute(f'truncate {tabName};')\n"
   ]
  },
  {
   "cell_type": "code",
   "execution_count": 442,
   "id": "e943e46c-fab7-4553-a0b5-66055c69690d",
   "metadata": {},
   "outputs": [
    {
     "name": "stdout",
     "output_type": "stream",
     "text": [
      "('id', 'mediumint', 'NO', 'PRI', None, 'auto_increment')\n",
      "('record', 'varchar(255)', 'YES', '', 'empty', '')\n"
     ]
    }
   ],
   "source": [
    "\n",
    "crs.execute(f'describe {tabName};')\n",
    "tab1Describe = crs.fetchall()\n",
    "for line in tab1Describe:\n",
    "    print(line)\n"
   ]
  },
  {
   "cell_type": "code",
   "execution_count": 443,
   "id": "8e70e592-fe53-49b8-af43-3873018ecdce",
   "metadata": {},
   "outputs": [],
   "source": [
    "\n",
    "for rec in redclust.lrange('nestedListData',0,-1):\n",
    "    query = f\"insert into {tabName}(record) values ('{rec.decode('utf-8')}')\"\n",
    "    crs.execute(query)\n"
   ]
  },
  {
   "cell_type": "code",
   "execution_count": 444,
   "id": "8a9ce49a-b11b-4140-801e-ae8c3106b6c8",
   "metadata": {},
   "outputs": [
    {
     "name": "stdout",
     "output_type": "stream",
     "text": [
      "((1, '123'), (2, 'qwe'), (3, 'new line'), (4, 'another line'), (5, 'third line'), (6, 'qweasdzxc'), (7, '123qwe456rty'), (8, 'last line'))\n"
     ]
    }
   ],
   "source": [
    "\n",
    "crs.execute(f'select * from {tabName}')\n",
    "data = crs.fetchall()\n",
    "print(data)\n"
   ]
  },
  {
   "cell_type": "code",
   "execution_count": null,
   "id": "97432f4b-55d6-488c-b37d-a4865bf790c0",
   "metadata": {},
   "outputs": [],
   "source": []
  }
 ],
 "metadata": {
  "kernelspec": {
   "display_name": "Python 3 (ipykernel)",
   "language": "python",
   "name": "python3"
  },
  "language_info": {
   "codemirror_mode": {
    "name": "ipython",
    "version": 3
   },
   "file_extension": ".py",
   "mimetype": "text/x-python",
   "name": "python",
   "nbconvert_exporter": "python",
   "pygments_lexer": "ipython3",
   "version": "3.8.10"
  }
 },
 "nbformat": 4,
 "nbformat_minor": 5
}
